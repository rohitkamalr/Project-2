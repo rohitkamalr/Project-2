{
 "cells": [
  {
   "cell_type": "code",
   "execution_count": 2,
   "metadata": {},
   "outputs": [],
   "source": [
    "import numpy as np\n",
    "import pandas as pd"
   ]
  },
  {
   "cell_type": "code",
   "execution_count": 41,
   "metadata": {},
   "outputs": [
    {
     "name": "stdout",
     "output_type": "stream",
     "text": [
      "['civic', 'dad', 'degged', 'detartrated', 'dewed', 'eve', 'evitative', 'kayak', 'level', 'madam', 'malayalam', 'mom', 'noon', 'racecar', 'radar', 'redder', 'refer', 'revver', 'rotator', 'rotor', 'sagas', 'selles', 'solos', 'stats', 'tattarrattat', 'tenet', 'wow'] 27\n"
     ]
    }
   ],
   "source": [
    "with open('pali.txt') as f:\n",
    "    list_words = f.readline().strip().split(',')\n",
    "    k = [i for i in list_words if i.lower()==i[::-1].lower()]\n",
    "    k.sort()\n",
    "    print(k,len(k))"
   ]
  },
  {
   "cell_type": "code",
   "execution_count": 25,
   "metadata": {},
   "outputs": [
    {
     "ename": "SyntaxError",
     "evalue": "invalid syntax (<ipython-input-25-5c523cfe3bbe>, line 1)",
     "output_type": "error",
     "traceback": [
      "\u001b[1;36m  File \u001b[1;32m\"<ipython-input-25-5c523cfe3bbe>\"\u001b[1;36m, line \u001b[1;32m1\u001b[0m\n\u001b[1;33m    conda install ipykernels\u001b[0m\n\u001b[1;37m                ^\u001b[0m\n\u001b[1;31mSyntaxError\u001b[0m\u001b[1;31m:\u001b[0m invalid syntax\n"
     ]
    }
   ],
   "source": [
    "conda install ipykernels\n",
    "ipython kernel install --user --name officehour-python3.8\n"
   ]
  },
  {
   "cell_type": "code",
   "execution_count": 26,
   "metadata": {},
   "outputs": [
    {
     "name": "stdout",
     "output_type": "stream",
     "text": [
      "('a', 1)\n"
     ]
    }
   ],
   "source": [
    "class d:\n",
    "    def __init__(self,p,q):\n",
    "        self.p = p\n",
    "        self.q = q\n",
    "        self.params = {'a':1}\n",
    "\n",
    "class a(d):\n",
    "    def k(self):\n",
    "        for i in self.params.items():\n",
    "            print(i)\n",
    "l = a(2,32)\n",
    "l.k()"
   ]
  },
  {
   "cell_type": "code",
   "execution_count": 45,
   "metadata": {},
   "outputs": [
    {
     "data": {
      "text/plain": [
       "array([0.88079708, 0.95257413])"
      ]
     },
     "execution_count": 45,
     "metadata": {},
     "output_type": "execute_result"
    }
   ],
   "source": [
    "sigmoid = lambda f: 1/(1+np.exp(-f))\n",
    "sigmoid(np.array([2,3]))"
   ]
  },
  {
   "cell_type": "code",
   "execution_count": 18,
   "metadata": {},
   "outputs": [
    {
     "data": {
      "text/plain": [
       "(2,)"
      ]
     },
     "execution_count": 18,
     "metadata": {},
     "output_type": "execute_result"
    }
   ],
   "source": [
    "b = np.array([[2,4],[3,3],[9,1]])\n",
    "a = np.array([[4],[5],[6]]).reshape(-1,1)\n",
    "b.shape\n",
    "np.array([1,2]).shape"
   ]
  },
  {
   "cell_type": "code",
   "execution_count": 17,
   "metadata": {},
   "outputs": [
    {
     "name": "stdout",
     "output_type": "stream",
     "text": [
      "(3, 1)\n",
      "(1, 2)\n",
      "(2,)\n",
      "(3, 2)\n"
     ]
    },
    {
     "data": {
      "text/plain": [
       "array([[5, 6],\n",
       "       [6, 7],\n",
       "       [7, 8]])"
      ]
     },
     "execution_count": 17,
     "metadata": {},
     "output_type": "execute_result"
    }
   ],
   "source": [
    "a = np.array([[4],[5],[6]])\n",
    "print(a.shape)\n",
    "b = np.array([[2],[3],[9]]).reshape(-1,1)\n",
    "print(np.array([[1,2]]).shape)\n",
    "l = a + np.array([[1,2]])\n",
    "print(np.array([[3,4],[3]]).shape)\n",
    "print(l.shape)\n",
    "l"
   ]
  },
  {
   "cell_type": "code",
   "execution_count": 40,
   "metadata": {},
   "outputs": [
    {
     "data": {
      "text/plain": [
       "array([[4., 5.],\n",
       "       [4., 5.],\n",
       "       [4., 5.],\n",
       "       [4., 5.],\n",
       "       [4., 5.],\n",
       "       [4., 5.],\n",
       "       [4., 5.],\n",
       "       [4., 5.],\n",
       "       [4., 5.],\n",
       "       [4., 5.]])"
      ]
     },
     "execution_count": 40,
     "metadata": {},
     "output_type": "execute_result"
    }
   ],
   "source": [
    "np.ones((10,2)) + np.array([3,4])"
   ]
  },
  {
   "cell_type": "markdown",
   "metadata": {},
   "source": [
    "# a = []\n",
    "k = a.copy()\n",
    "print(id(a), id(k))"
   ]
  },
  {
   "cell_type": "code",
   "execution_count": null,
   "metadata": {},
   "outputs": [],
   "source": []
  },
  {
   "cell_type": "code",
   "execution_count": 18,
   "metadata": {},
   "outputs": [
    {
     "name": "stdout",
     "output_type": "stream",
     "text": [
      "[[0.08534226]\n",
      " [0.88034565]]\n",
      "0.8803456509384785\n"
     ]
    }
   ],
   "source": [
    "k = []\n",
    "k.append(np.random.rand(2,1))\n",
    "for i in k:\n",
    "    print(i)\n",
    "    print(i[1][0])\n",
    "    "
   ]
  },
  {
   "cell_type": "code",
   "execution_count": 39,
   "metadata": {},
   "outputs": [
    {
     "name": "stdout",
     "output_type": "stream",
     "text": [
      "1\n"
     ]
    }
   ],
   "source": [
    "a = 5\n",
    "print(1) if a>2 else 3"
   ]
  },
  {
   "cell_type": "code",
   "execution_count": 42,
   "metadata": {},
   "outputs": [
    {
     "name": "stdout",
     "output_type": "stream",
     "text": [
      "4\n",
      "10\n"
     ]
    }
   ],
   "source": [
    "for i in range(4):\n",
    "    if i==3:\n",
    "        print(4)\n",
    "        continue\n",
    "else:\n",
    "    print(10)"
   ]
  },
  {
   "cell_type": "code",
   "execution_count": null,
   "metadata": {},
   "outputs": [],
   "source": []
  }
 ],
 "metadata": {
  "kernelspec": {
   "display_name": "Python 3",
   "language": "python",
   "name": "python3"
  },
  "language_info": {
   "codemirror_mode": {
    "name": "ipython",
    "version": 3
   },
   "file_extension": ".py",
   "mimetype": "text/x-python",
   "name": "python",
   "nbconvert_exporter": "python",
   "pygments_lexer": "ipython3",
   "version": "3.7.6"
  }
 },
 "nbformat": 4,
 "nbformat_minor": 4
}
